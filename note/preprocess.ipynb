{
 "cells": [
  {
   "cell_type": "code",
   "execution_count": 137,
   "metadata": {},
   "outputs": [],
   "source": [
    "import pandas as pd\n",
    "import numpy as np\n",
    "import base64\n",
    "from tqdm import tqdm\n",
    "import warnings\n",
    "from sklearn.externals import joblib\n",
    "import torch\n",
    "from torch.autograd import Variable\n",
    "import itertools\n",
    "import time\n",
    "import argparse\n",
    "import re\n",
    "warnings.filterwarnings('ignore')"
   ]
  },
  {
   "cell_type": "markdown",
   "metadata": {},
   "source": [
    "## train samples"
   ]
  },
  {
   "cell_type": "code",
   "execution_count": 2,
   "metadata": {},
   "outputs": [
    {
     "data": {
      "text/html": [
       "<div>\n",
       "<style scoped>\n",
       "    .dataframe tbody tr th:only-of-type {\n",
       "        vertical-align: middle;\n",
       "    }\n",
       "\n",
       "    .dataframe tbody tr th {\n",
       "        vertical-align: top;\n",
       "    }\n",
       "\n",
       "    .dataframe thead th {\n",
       "        text-align: right;\n",
       "    }\n",
       "</style>\n",
       "<table border=\"1\" class=\"dataframe\">\n",
       "  <thead>\n",
       "    <tr style=\"text-align: right;\">\n",
       "      <th></th>\n",
       "      <th>product_id</th>\n",
       "      <th>image_h</th>\n",
       "      <th>image_w</th>\n",
       "      <th>num_boxes</th>\n",
       "      <th>boxes</th>\n",
       "      <th>features</th>\n",
       "      <th>class_labels</th>\n",
       "      <th>query</th>\n",
       "      <th>query_id</th>\n",
       "    </tr>\n",
       "  </thead>\n",
       "  <tbody>\n",
       "    <tr>\n",
       "      <th>0</th>\n",
       "      <td>102851856</td>\n",
       "      <td>338</td>\n",
       "      <td>209</td>\n",
       "      <td>2</td>\n",
       "      <td>AAAAAAAAQEAAAKlDAABPQwAAb0MAALBBAICmQwAATEM=</td>\n",
       "      <td>AAAAAAAAAAAnNsFAAAAAAOeVGD0AAAAAAAAAAAAAAAAAAA...</td>\n",
       "      <td>HAAAAAAAAAAcAAAAAAAAAA==</td>\n",
       "      <td>treble popular reed</td>\n",
       "      <td>923271</td>\n",
       "    </tr>\n",
       "    <tr>\n",
       "      <th>1</th>\n",
       "      <td>101783080</td>\n",
       "      <td>80</td>\n",
       "      <td>61</td>\n",
       "      <td>1</td>\n",
       "      <td>AACgQAAAoEAAAJZCAABgQg==</td>\n",
       "      <td>AAAAADnKfjyatb8/AAAAALxPBz0MH6E9xwkoPAAAAAAAAA...</td>\n",
       "      <td>HAAAAAAAAAA=</td>\n",
       "      <td>compatible ink cartridges</td>\n",
       "      <td>234031</td>\n",
       "    </tr>\n",
       "    <tr>\n",
       "      <th>2</th>\n",
       "      <td>100492797</td>\n",
       "      <td>750</td>\n",
       "      <td>750</td>\n",
       "      <td>1</td>\n",
       "      <td>AAAsQgCAg0MAgCREAADqQw==</td>\n",
       "      <td>AAAAAAAAAABmUlE/AAAAABvc0jwAAAAAAAAAAAAAAAAAAA...</td>\n",
       "      <td>BwAAAAAAAAA=</td>\n",
       "      <td>check new look facial cream</td>\n",
       "      <td>199926</td>\n",
       "    </tr>\n",
       "    <tr>\n",
       "      <th>3</th>\n",
       "      <td>101708088</td>\n",
       "      <td>480</td>\n",
       "      <td>640</td>\n",
       "      <td>5</td>\n",
       "      <td>AAB6QwCA0kMAANBDAMAeRAAAfEMAAKBAAIDWQwAAVkMAAH...</td>\n",
       "      <td>AAAAAAAAAAAAAAAAAAAAAAXyfz4AAAAAAAAAAAAAAAAAAA...</td>\n",
       "      <td>HAAAAAAAAAAcAAAAAAAAABwAAAAAAAAAHAAAAAAAAAAcAA...</td>\n",
       "      <td>royal commemorative stamp</td>\n",
       "      <td>772725</td>\n",
       "    </tr>\n",
       "    <tr>\n",
       "      <th>4</th>\n",
       "      <td>100316842</td>\n",
       "      <td>800</td>\n",
       "      <td>800</td>\n",
       "      <td>4</td>\n",
       "      <td>AAAKQwCAgEMAADNEAAAHRAAAIkMAwCZEAACqQwDARkQAAE...</td>\n",
       "      <td>AAAAADSdaTwVTdA8AAAAAAAAAAAAAAAAAAAAAAAAAAAAAA...</td>\n",
       "      <td>HAAAAAAAAAAGAAAAAAAAAAYAAAAAAAAAHAAAAAAAAAA=</td>\n",
       "      <td>calendula baby shower gel</td>\n",
       "      <td>362576</td>\n",
       "    </tr>\n",
       "  </tbody>\n",
       "</table>\n",
       "</div>"
      ],
      "text/plain": [
       "   product_id  image_h  image_w  num_boxes  \\\n",
       "0   102851856      338      209          2   \n",
       "1   101783080       80       61          1   \n",
       "2   100492797      750      750          1   \n",
       "3   101708088      480      640          5   \n",
       "4   100316842      800      800          4   \n",
       "\n",
       "                                               boxes  \\\n",
       "0       AAAAAAAAQEAAAKlDAABPQwAAb0MAALBBAICmQwAATEM=   \n",
       "1                           AACgQAAAoEAAAJZCAABgQg==   \n",
       "2                           AAAsQgCAg0MAgCREAADqQw==   \n",
       "3  AAB6QwCA0kMAANBDAMAeRAAAfEMAAKBAAIDWQwAAVkMAAH...   \n",
       "4  AAAKQwCAgEMAADNEAAAHRAAAIkMAwCZEAACqQwDARkQAAE...   \n",
       "\n",
       "                                            features  \\\n",
       "0  AAAAAAAAAAAnNsFAAAAAAOeVGD0AAAAAAAAAAAAAAAAAAA...   \n",
       "1  AAAAADnKfjyatb8/AAAAALxPBz0MH6E9xwkoPAAAAAAAAA...   \n",
       "2  AAAAAAAAAABmUlE/AAAAABvc0jwAAAAAAAAAAAAAAAAAAA...   \n",
       "3  AAAAAAAAAAAAAAAAAAAAAAXyfz4AAAAAAAAAAAAAAAAAAA...   \n",
       "4  AAAAADSdaTwVTdA8AAAAAAAAAAAAAAAAAAAAAAAAAAAAAA...   \n",
       "\n",
       "                                        class_labels  \\\n",
       "0                           HAAAAAAAAAAcAAAAAAAAAA==   \n",
       "1                                       HAAAAAAAAAA=   \n",
       "2                                       BwAAAAAAAAA=   \n",
       "3  HAAAAAAAAAAcAAAAAAAAABwAAAAAAAAAHAAAAAAAAAAcAA...   \n",
       "4       HAAAAAAAAAAGAAAAAAAAAAYAAAAAAAAAHAAAAAAAAAA=   \n",
       "\n",
       "                         query  query_id  \n",
       "0          treble popular reed    923271  \n",
       "1    compatible ink cartridges    234031  \n",
       "2  check new look facial cream    199926  \n",
       "3    royal commemorative stamp    772725  \n",
       "4    calendula baby shower gel    362576  "
      ]
     },
     "execution_count": 2,
     "metadata": {},
     "output_type": "execute_result"
    }
   ],
   "source": [
    "train_sample = pd.read_csv('/home/poac/AnomalyDetectionDataset/kdd_cup_2020/train.sample.tsv', sep='\\t')\n",
    "train_sample.head()"
   ]
  },
  {
   "cell_type": "code",
   "execution_count": 3,
   "metadata": {},
   "outputs": [
    {
     "name": "stderr",
     "output_type": "stream",
     "text": [
      "100%|██████████| 10000/10000 [03:17<00:00, 50.59it/s]\n"
     ]
    }
   ],
   "source": [
    "# 处理boxes\n",
    "boxes = np.array(train_sample['boxes'])\n",
    "for i in tqdm(range(boxes.shape[0])):\n",
    "    tem = boxes[i]\n",
    "    train_sample['boxes'][i] = np.frombuffer(base64.b64decode(tem), dtype=np.float32).reshape(train_sample['num_boxes'][i], 4)"
   ]
  },
  {
   "cell_type": "code",
   "execution_count": 5,
   "metadata": {},
   "outputs": [
    {
     "name": "stderr",
     "output_type": "stream",
     "text": [
      "100%|██████████| 10000/10000 [03:18<00:00, 50.35it/s]\n"
     ]
    }
   ],
   "source": [
    "# 处理features\n",
    "features = np.array(train_sample['features'])\n",
    "for i in tqdm(range(boxes.shape[0])):\n",
    "    train_sample['features'][i] = np.frombuffer(base64.b64decode(features[i]), dtype=np.float32).reshape(train_sample['num_boxes'][i], 2048)"
   ]
  },
  {
   "cell_type": "code",
   "execution_count": 8,
   "metadata": {},
   "outputs": [
    {
     "name": "stderr",
     "output_type": "stream",
     "text": [
      "100%|██████████| 10000/10000 [03:30<00:00, 47.42it/s]\n"
     ]
    }
   ],
   "source": [
    "# 处理class_labels\n",
    "class_labels = np.array(train_sample['class_labels'])\n",
    "for i in tqdm(range(class_labels.shape[0])):\n",
    "    train_sample['class_labels'][i] = np.frombuffer(base64.b64decode(class_labels[i]), dtype=np.int64).reshape(train_sample['num_boxes'][i])"
   ]
  },
  {
   "cell_type": "code",
   "execution_count": 10,
   "metadata": {},
   "outputs": [
    {
     "data": {
      "text/html": [
       "<div>\n",
       "<style scoped>\n",
       "    .dataframe tbody tr th:only-of-type {\n",
       "        vertical-align: middle;\n",
       "    }\n",
       "\n",
       "    .dataframe tbody tr th {\n",
       "        vertical-align: top;\n",
       "    }\n",
       "\n",
       "    .dataframe thead th {\n",
       "        text-align: right;\n",
       "    }\n",
       "</style>\n",
       "<table border=\"1\" class=\"dataframe\">\n",
       "  <thead>\n",
       "    <tr style=\"text-align: right;\">\n",
       "      <th></th>\n",
       "      <th>product_id</th>\n",
       "      <th>image_h</th>\n",
       "      <th>image_w</th>\n",
       "      <th>num_boxes</th>\n",
       "      <th>boxes</th>\n",
       "      <th>features</th>\n",
       "      <th>class_labels</th>\n",
       "      <th>query</th>\n",
       "      <th>query_id</th>\n",
       "    </tr>\n",
       "  </thead>\n",
       "  <tbody>\n",
       "    <tr>\n",
       "      <th>0</th>\n",
       "      <td>102851856</td>\n",
       "      <td>338</td>\n",
       "      <td>209</td>\n",
       "      <td>2</td>\n",
       "      <td>[[0.0, 3.0, 338.0, 207.0], [239.0, 22.0, 333.0...</td>\n",
       "      <td>[[0.0, 0.0, 6.0378604, 0.0, 0.037252333, 0.0, ...</td>\n",
       "      <td>[28, 28]</td>\n",
       "      <td>treble popular reed</td>\n",
       "      <td>923271</td>\n",
       "    </tr>\n",
       "    <tr>\n",
       "      <th>1</th>\n",
       "      <td>101783080</td>\n",
       "      <td>80</td>\n",
       "      <td>61</td>\n",
       "      <td>1</td>\n",
       "      <td>[[5.0, 5.0, 75.0, 56.0]]</td>\n",
       "      <td>[[0.0, 0.015551143, 1.4977295, 0.0, 0.03303502...</td>\n",
       "      <td>[28]</td>\n",
       "      <td>compatible ink cartridges</td>\n",
       "      <td>234031</td>\n",
       "    </tr>\n",
       "    <tr>\n",
       "      <th>2</th>\n",
       "      <td>100492797</td>\n",
       "      <td>750</td>\n",
       "      <td>750</td>\n",
       "      <td>1</td>\n",
       "      <td>[[43.0, 263.0, 658.0, 468.0]]</td>\n",
       "      <td>[[0.0, 0.0, 0.81766355, 0.0, 0.02573972, 0.0, ...</td>\n",
       "      <td>[7]</td>\n",
       "      <td>check new look facial cream</td>\n",
       "      <td>199926</td>\n",
       "    </tr>\n",
       "    <tr>\n",
       "      <th>3</th>\n",
       "      <td>101708088</td>\n",
       "      <td>480</td>\n",
       "      <td>640</td>\n",
       "      <td>5</td>\n",
       "      <td>[[250.0, 421.0, 416.0, 635.0], [252.0, 5.0, 42...</td>\n",
       "      <td>[[0.0, 0.0, 0.0, 0.0, 0.24994667, 0.0, 0.0, 0....</td>\n",
       "      <td>[28, 28, 28, 28, 28]</td>\n",
       "      <td>royal commemorative stamp</td>\n",
       "      <td>772725</td>\n",
       "    </tr>\n",
       "    <tr>\n",
       "      <th>4</th>\n",
       "      <td>100316842</td>\n",
       "      <td>800</td>\n",
       "      <td>800</td>\n",
       "      <td>4</td>\n",
       "      <td>[[138.0, 257.0, 716.0, 540.0], [162.0, 667.0, ...</td>\n",
       "      <td>[[0.0, 0.014258672, 0.02542738, 0.0, 0.0, 0.0,...</td>\n",
       "      <td>[28, 6, 6, 28]</td>\n",
       "      <td>calendula baby shower gel</td>\n",
       "      <td>362576</td>\n",
       "    </tr>\n",
       "  </tbody>\n",
       "</table>\n",
       "</div>"
      ],
      "text/plain": [
       "   product_id  image_h  image_w  num_boxes  \\\n",
       "0   102851856      338      209          2   \n",
       "1   101783080       80       61          1   \n",
       "2   100492797      750      750          1   \n",
       "3   101708088      480      640          5   \n",
       "4   100316842      800      800          4   \n",
       "\n",
       "                                               boxes  \\\n",
       "0  [[0.0, 3.0, 338.0, 207.0], [239.0, 22.0, 333.0...   \n",
       "1                           [[5.0, 5.0, 75.0, 56.0]]   \n",
       "2                      [[43.0, 263.0, 658.0, 468.0]]   \n",
       "3  [[250.0, 421.0, 416.0, 635.0], [252.0, 5.0, 42...   \n",
       "4  [[138.0, 257.0, 716.0, 540.0], [162.0, 667.0, ...   \n",
       "\n",
       "                                            features          class_labels  \\\n",
       "0  [[0.0, 0.0, 6.0378604, 0.0, 0.037252333, 0.0, ...              [28, 28]   \n",
       "1  [[0.0, 0.015551143, 1.4977295, 0.0, 0.03303502...                  [28]   \n",
       "2  [[0.0, 0.0, 0.81766355, 0.0, 0.02573972, 0.0, ...                   [7]   \n",
       "3  [[0.0, 0.0, 0.0, 0.0, 0.24994667, 0.0, 0.0, 0....  [28, 28, 28, 28, 28]   \n",
       "4  [[0.0, 0.014258672, 0.02542738, 0.0, 0.0, 0.0,...        [28, 6, 6, 28]   \n",
       "\n",
       "                         query  query_id  \n",
       "0          treble popular reed    923271  \n",
       "1    compatible ink cartridges    234031  \n",
       "2  check new look facial cream    199926  \n",
       "3    royal commemorative stamp    772725  \n",
       "4    calendula baby shower gel    362576  "
      ]
     },
     "execution_count": 10,
     "metadata": {},
     "output_type": "execute_result"
    }
   ],
   "source": [
    "train_sample.head()"
   ]
  },
  {
   "cell_type": "code",
   "execution_count": null,
   "metadata": {},
   "outputs": [],
   "source": [
    "# save\n",
    "joblib.dump(train_sample, '/home/poac/AnomalyDetectionDataset/kdd_cup_2020/processed/train_sample_processed.jl.z')"
   ]
  },
  {
   "cell_type": "markdown",
   "metadata": {},
   "source": [
    "## test A"
   ]
  },
  {
   "cell_type": "code",
   "execution_count": 2,
   "metadata": {},
   "outputs": [
    {
     "data": {
      "text/html": [
       "<div>\n",
       "<style scoped>\n",
       "    .dataframe tbody tr th:only-of-type {\n",
       "        vertical-align: middle;\n",
       "    }\n",
       "\n",
       "    .dataframe tbody tr th {\n",
       "        vertical-align: top;\n",
       "    }\n",
       "\n",
       "    .dataframe thead th {\n",
       "        text-align: right;\n",
       "    }\n",
       "</style>\n",
       "<table border=\"1\" class=\"dataframe\">\n",
       "  <thead>\n",
       "    <tr style=\"text-align: right;\">\n",
       "      <th></th>\n",
       "      <th>product_id</th>\n",
       "      <th>image_h</th>\n",
       "      <th>image_w</th>\n",
       "      <th>num_boxes</th>\n",
       "      <th>boxes</th>\n",
       "      <th>features</th>\n",
       "      <th>class_labels</th>\n",
       "      <th>query</th>\n",
       "      <th>query_id</th>\n",
       "    </tr>\n",
       "  </thead>\n",
       "  <tbody>\n",
       "    <tr>\n",
       "      <th>0</th>\n",
       "      <td>103052445</td>\n",
       "      <td>798</td>\n",
       "      <td>798</td>\n",
       "      <td>1</td>\n",
       "      <td>AIC3QwAAF0MAABxEAMAtRA==</td>\n",
       "      <td>AAAAAAAAAABwKQE9AAAAAAAAAAAAAAAAAAAAAAAAAAAAAA...</td>\n",
       "      <td>BAAAAAAAAAA=</td>\n",
       "      <td>straw heavy-bottomed sandals</td>\n",
       "      <td>0</td>\n",
       "    </tr>\n",
       "    <tr>\n",
       "      <th>1</th>\n",
       "      <td>103044513</td>\n",
       "      <td>800</td>\n",
       "      <td>800</td>\n",
       "      <td>1</td>\n",
       "      <td>AABqQwAAzEIAADJEAMAgRA==</td>\n",
       "      <td>AAAAAAAAAAAAAAAAAAAAAAAAAAAAAAAAAAAAAAAAAAAAAA...</td>\n",
       "      <td>BAAAAAAAAAA=</td>\n",
       "      <td>straw heavy-bottomed sandals</td>\n",
       "      <td>0</td>\n",
       "    </tr>\n",
       "    <tr>\n",
       "      <th>2</th>\n",
       "      <td>103035030</td>\n",
       "      <td>800</td>\n",
       "      <td>800</td>\n",
       "      <td>8</td>\n",
       "      <td>AAAAQwAAAEEAgNRDAICGQwAAUEEAAPBBAACUQgAA3EIAAI...</td>\n",
       "      <td>AAAAAAAAAABFkBg+AAAAAM5daTwAAAAAAAAAAAAAAAAAAA...</td>\n",
       "      <td>AAAAAAAAAAAFAAAAAAAAAAIAAAAAAAAAAwAAAAAAAAAEAA...</td>\n",
       "      <td>straw heavy-bottomed sandals</td>\n",
       "      <td>0</td>\n",
       "    </tr>\n",
       "    <tr>\n",
       "      <th>3</th>\n",
       "      <td>103036197</td>\n",
       "      <td>800</td>\n",
       "      <td>800</td>\n",
       "      <td>3</td>\n",
       "      <td>AAAmQwAAwEEAwC1EAICqQwAAJ0MAAFJDAAA1RADAAkQAAE...</td>\n",
       "      <td>AAAAAAAAAAD2rhE+AAAAAAAAAADbLAw+AAAAANGzLD4AAA...</td>\n",
       "      <td>BAAAAAAAAAAEAAAAAAAAAAQAAAAAAAAA</td>\n",
       "      <td>straw heavy-bottomed sandals</td>\n",
       "      <td>0</td>\n",
       "    </tr>\n",
       "    <tr>\n",
       "      <th>4</th>\n",
       "      <td>103055323</td>\n",
       "      <td>800</td>\n",
       "      <td>800</td>\n",
       "      <td>1</td>\n",
       "      <td>AABUQwAA+EEAgChEAEBCRA==</td>\n",
       "      <td>AAAAAKzRGTs0osc+kJpVPAAAAAAAAAAAAAAAAAAAAAAAAA...</td>\n",
       "      <td>BAAAAAAAAAA=</td>\n",
       "      <td>straw heavy-bottomed sandals</td>\n",
       "      <td>0</td>\n",
       "    </tr>\n",
       "  </tbody>\n",
       "</table>\n",
       "</div>"
      ],
      "text/plain": [
       "   product_id  image_h  image_w  num_boxes  \\\n",
       "0   103052445      798      798          1   \n",
       "1   103044513      800      800          1   \n",
       "2   103035030      800      800          8   \n",
       "3   103036197      800      800          3   \n",
       "4   103055323      800      800          1   \n",
       "\n",
       "                                               boxes  \\\n",
       "0                           AIC3QwAAF0MAABxEAMAtRA==   \n",
       "1                           AABqQwAAzEIAADJEAMAgRA==   \n",
       "2  AAAAQwAAAEEAgNRDAICGQwAAUEEAAPBBAACUQgAA3EIAAI...   \n",
       "3  AAAmQwAAwEEAwC1EAICqQwAAJ0MAAFJDAAA1RADAAkQAAE...   \n",
       "4                           AABUQwAA+EEAgChEAEBCRA==   \n",
       "\n",
       "                                            features  \\\n",
       "0  AAAAAAAAAABwKQE9AAAAAAAAAAAAAAAAAAAAAAAAAAAAAA...   \n",
       "1  AAAAAAAAAAAAAAAAAAAAAAAAAAAAAAAAAAAAAAAAAAAAAA...   \n",
       "2  AAAAAAAAAABFkBg+AAAAAM5daTwAAAAAAAAAAAAAAAAAAA...   \n",
       "3  AAAAAAAAAAD2rhE+AAAAAAAAAADbLAw+AAAAANGzLD4AAA...   \n",
       "4  AAAAAKzRGTs0osc+kJpVPAAAAAAAAAAAAAAAAAAAAAAAAA...   \n",
       "\n",
       "                                        class_labels  \\\n",
       "0                                       BAAAAAAAAAA=   \n",
       "1                                       BAAAAAAAAAA=   \n",
       "2  AAAAAAAAAAAFAAAAAAAAAAIAAAAAAAAAAwAAAAAAAAAEAA...   \n",
       "3                   BAAAAAAAAAAEAAAAAAAAAAQAAAAAAAAA   \n",
       "4                                       BAAAAAAAAAA=   \n",
       "\n",
       "                          query  query_id  \n",
       "0  straw heavy-bottomed sandals         0  \n",
       "1  straw heavy-bottomed sandals         0  \n",
       "2  straw heavy-bottomed sandals         0  \n",
       "3  straw heavy-bottomed sandals         0  \n",
       "4  straw heavy-bottomed sandals         0  "
      ]
     },
     "execution_count": 2,
     "metadata": {},
     "output_type": "execute_result"
    }
   ],
   "source": [
    "testA = pd.read_csv('/home/poac/AnomalyDetectionDataset/kdd_cup_2020/testA.tsv', sep='\\t')\n",
    "testA.head()"
   ]
  },
  {
   "cell_type": "code",
   "execution_count": 3,
   "metadata": {},
   "outputs": [
    {
     "name": "stderr",
     "output_type": "stream",
     "text": [
      "100%|██████████| 28830/28830 [13:16<00:00, 36.20it/s]\n"
     ]
    }
   ],
   "source": [
    "# 处理boxes\n",
    "boxes = np.array(testA['boxes'])\n",
    "for i in tqdm(range(boxes.shape[0])):\n",
    "    tem = boxes[i]\n",
    "    testA['boxes'][i] = np.frombuffer(base64.b64decode(tem), dtype=np.float32).reshape(testA['num_boxes'][i], 4)"
   ]
  },
  {
   "cell_type": "code",
   "execution_count": 4,
   "metadata": {},
   "outputs": [
    {
     "name": "stderr",
     "output_type": "stream",
     "text": [
      "100%|██████████| 28830/28830 [13:36<00:00, 35.31it/s]\n"
     ]
    }
   ],
   "source": [
    "# 处理features\n",
    "features = np.array(testA['features'])\n",
    "for i in tqdm(range(boxes.shape[0])):\n",
    "    testA['features'][i] = np.frombuffer(base64.b64decode(features[i]), dtype=np.float32).reshape(testA['num_boxes'][i], 2048)"
   ]
  },
  {
   "cell_type": "code",
   "execution_count": 5,
   "metadata": {},
   "outputs": [
    {
     "name": "stderr",
     "output_type": "stream",
     "text": [
      "100%|██████████| 28830/28830 [12:39<00:00, 39.34it/s]\n"
     ]
    }
   ],
   "source": [
    "# 处理class_labels\n",
    "class_labels = np.array(testA['class_labels'])\n",
    "for i in tqdm(range(class_labels.shape[0])):\n",
    "    testA['class_labels'][i] = np.frombuffer(base64.b64decode(class_labels[i]), dtype=np.int64).reshape(testA['num_boxes'][i])"
   ]
  },
  {
   "cell_type": "code",
   "execution_count": 6,
   "metadata": {},
   "outputs": [
    {
     "data": {
      "text/html": [
       "<div>\n",
       "<style scoped>\n",
       "    .dataframe tbody tr th:only-of-type {\n",
       "        vertical-align: middle;\n",
       "    }\n",
       "\n",
       "    .dataframe tbody tr th {\n",
       "        vertical-align: top;\n",
       "    }\n",
       "\n",
       "    .dataframe thead th {\n",
       "        text-align: right;\n",
       "    }\n",
       "</style>\n",
       "<table border=\"1\" class=\"dataframe\">\n",
       "  <thead>\n",
       "    <tr style=\"text-align: right;\">\n",
       "      <th></th>\n",
       "      <th>product_id</th>\n",
       "      <th>image_h</th>\n",
       "      <th>image_w</th>\n",
       "      <th>num_boxes</th>\n",
       "      <th>boxes</th>\n",
       "      <th>features</th>\n",
       "      <th>class_labels</th>\n",
       "      <th>query</th>\n",
       "      <th>query_id</th>\n",
       "    </tr>\n",
       "  </thead>\n",
       "  <tbody>\n",
       "    <tr>\n",
       "      <th>0</th>\n",
       "      <td>103052445</td>\n",
       "      <td>798</td>\n",
       "      <td>798</td>\n",
       "      <td>1</td>\n",
       "      <td>[[367.0, 151.0, 624.0, 695.0]]</td>\n",
       "      <td>[[0.0, 0.0, 0.03153366, 0.0, 0.0, 0.0, 0.0, 0....</td>\n",
       "      <td>[4]</td>\n",
       "      <td>straw heavy-bottomed sandals</td>\n",
       "      <td>0</td>\n",
       "    </tr>\n",
       "    <tr>\n",
       "      <th>1</th>\n",
       "      <td>103044513</td>\n",
       "      <td>800</td>\n",
       "      <td>800</td>\n",
       "      <td>1</td>\n",
       "      <td>[[234.0, 102.0, 712.0, 643.0]]</td>\n",
       "      <td>[[0.0, 0.0, 0.0, 0.0, 0.0, 0.0, 0.0, 0.0, 0.0,...</td>\n",
       "      <td>[4]</td>\n",
       "      <td>straw heavy-bottomed sandals</td>\n",
       "      <td>0</td>\n",
       "    </tr>\n",
       "    <tr>\n",
       "      <th>2</th>\n",
       "      <td>103035030</td>\n",
       "      <td>800</td>\n",
       "      <td>800</td>\n",
       "      <td>8</td>\n",
       "      <td>[[128.0, 8.0, 425.0, 269.0], [13.0, 30.0, 74.0...</td>\n",
       "      <td>[[0.0, 0.0, 0.14898784, 0.0, 0.014243556, 0.0,...</td>\n",
       "      <td>[0, 5, 2, 3, 4, 4, 4, 5]</td>\n",
       "      <td>straw heavy-bottomed sandals</td>\n",
       "      <td>0</td>\n",
       "    </tr>\n",
       "    <tr>\n",
       "      <th>3</th>\n",
       "      <td>103036197</td>\n",
       "      <td>800</td>\n",
       "      <td>800</td>\n",
       "      <td>3</td>\n",
       "      <td>[[166.0, 24.0, 695.0, 341.0], [167.0, 210.0, 7...</td>\n",
       "      <td>[[0.0, 0.0, 0.14226899, 0.0, 0.0, 0.13688986, ...</td>\n",
       "      <td>[4, 4, 4]</td>\n",
       "      <td>straw heavy-bottomed sandals</td>\n",
       "      <td>0</td>\n",
       "    </tr>\n",
       "    <tr>\n",
       "      <th>4</th>\n",
       "      <td>103055323</td>\n",
       "      <td>800</td>\n",
       "      <td>800</td>\n",
       "      <td>1</td>\n",
       "      <td>[[212.0, 31.0, 674.0, 777.0]]</td>\n",
       "      <td>[[0.0, 0.0023470921, 0.3899094, 0.013037339, 0...</td>\n",
       "      <td>[4]</td>\n",
       "      <td>straw heavy-bottomed sandals</td>\n",
       "      <td>0</td>\n",
       "    </tr>\n",
       "  </tbody>\n",
       "</table>\n",
       "</div>"
      ],
      "text/plain": [
       "   product_id  image_h  image_w  num_boxes  \\\n",
       "0   103052445      798      798          1   \n",
       "1   103044513      800      800          1   \n",
       "2   103035030      800      800          8   \n",
       "3   103036197      800      800          3   \n",
       "4   103055323      800      800          1   \n",
       "\n",
       "                                               boxes  \\\n",
       "0                     [[367.0, 151.0, 624.0, 695.0]]   \n",
       "1                     [[234.0, 102.0, 712.0, 643.0]]   \n",
       "2  [[128.0, 8.0, 425.0, 269.0], [13.0, 30.0, 74.0...   \n",
       "3  [[166.0, 24.0, 695.0, 341.0], [167.0, 210.0, 7...   \n",
       "4                      [[212.0, 31.0, 674.0, 777.0]]   \n",
       "\n",
       "                                            features  \\\n",
       "0  [[0.0, 0.0, 0.03153366, 0.0, 0.0, 0.0, 0.0, 0....   \n",
       "1  [[0.0, 0.0, 0.0, 0.0, 0.0, 0.0, 0.0, 0.0, 0.0,...   \n",
       "2  [[0.0, 0.0, 0.14898784, 0.0, 0.014243556, 0.0,...   \n",
       "3  [[0.0, 0.0, 0.14226899, 0.0, 0.0, 0.13688986, ...   \n",
       "4  [[0.0, 0.0023470921, 0.3899094, 0.013037339, 0...   \n",
       "\n",
       "               class_labels                         query  query_id  \n",
       "0                       [4]  straw heavy-bottomed sandals         0  \n",
       "1                       [4]  straw heavy-bottomed sandals         0  \n",
       "2  [0, 5, 2, 3, 4, 4, 4, 5]  straw heavy-bottomed sandals         0  \n",
       "3                 [4, 4, 4]  straw heavy-bottomed sandals         0  \n",
       "4                       [4]  straw heavy-bottomed sandals         0  "
      ]
     },
     "execution_count": 6,
     "metadata": {},
     "output_type": "execute_result"
    }
   ],
   "source": [
    "testA.head()"
   ]
  },
  {
   "cell_type": "code",
   "execution_count": 7,
   "metadata": {},
   "outputs": [
    {
     "data": {
      "text/plain": [
       "['/home/poac/AnomalyDetectionDataset/kdd_cup_2020/processed/testA_processed.m']"
      ]
     },
     "execution_count": 7,
     "metadata": {},
     "output_type": "execute_result"
    }
   ],
   "source": [
    "# save\n",
    "joblib.dump(testA, '/home/poac/AnomalyDetectionDataset/kdd_cup_2020/processed/testA_processed.jl.z')"
   ]
  },
  {
   "cell_type": "markdown",
   "metadata": {},
   "source": [
    "## query"
   ]
  },
  {
   "cell_type": "code",
   "execution_count": 191,
   "metadata": {},
   "outputs": [],
   "source": [
    "data = joblib.load('/home/poac/AnomalyDetectionDataset/kdd_cup_2020/processed/train_sample_processed.jl.z')"
   ]
  },
  {
   "cell_type": "code",
   "execution_count": 45,
   "metadata": {},
   "outputs": [
    {
     "data": {
      "text/plain": [
       "(10000,)"
      ]
     },
     "execution_count": 45,
     "metadata": {},
     "output_type": "execute_result"
    }
   ],
   "source": [
    "query = np.array(data['query'])\n",
    "query.shape"
   ]
  },
  {
   "cell_type": "code",
   "execution_count": 46,
   "metadata": {},
   "outputs": [],
   "source": [
    "def split_query(query):\n",
    "    \"\"\"\n",
    "    split query\n",
    "    :param query:\n",
    "    :return: query and max len\n",
    "    \"\"\"\n",
    "    out = []\n",
    "    query_len = []\n",
    "    for i in range(query.shape[0]):\n",
    "        tem = str(query[i]).split(\" \")\n",
    "        query_len.append(len(tem))\n",
    "        out.append(tem)\n",
    "    out = np.array(out)\n",
    "    query_len = np.array(query_len)\n",
    "    return out, max(query_len)"
   ]
  },
  {
   "cell_type": "code",
   "execution_count": 47,
   "metadata": {},
   "outputs": [],
   "source": [
    "query, max_len = split_query(query=query)"
   ]
  },
  {
   "cell_type": "code",
   "execution_count": 85,
   "metadata": {},
   "outputs": [
    {
     "data": {
      "text/plain": [
       "10"
      ]
     },
     "execution_count": 85,
     "metadata": {},
     "output_type": "execute_result"
    }
   ],
   "source": [
    "max_len"
   ]
  },
  {
   "cell_type": "code",
   "execution_count": 48,
   "metadata": {},
   "outputs": [],
   "source": [
    "# word --> index\n",
    "with open('/home/poac/code/Multi_modal_Retrieval/experiments/pretrained_models/bert-base-uncased-vocab.txt', mode=\"r\", encoding=\"utf8\") as f:\n",
    "    lines = f.readlines()\n",
    "    lines = [l.strip() for l in lines]\n",
    "word_index = {v: k  for k, v in enumerate(lines)}"
   ]
  },
  {
   "cell_type": "code",
   "execution_count": 77,
   "metadata": {},
   "outputs": [
    {
     "data": {
      "text/plain": [
       "2047"
      ]
     },
     "execution_count": 77,
     "metadata": {},
     "output_type": "execute_result"
    }
   ],
   "source": [
    "word_index['new']"
   ]
  },
  {
   "cell_type": "code",
   "execution_count": 69,
   "metadata": {},
   "outputs": [
    {
     "data": {
      "text/plain": [
       "array([list(['treble', 'popular', 'reed']),\n",
       "       list(['compatible', 'ink', 'cartridges']),\n",
       "       list(['check', 'new', 'look', 'facial', 'cream']), ...,\n",
       "       list(['silicone', 'accessories', 'storage', 'box']),\n",
       "       list(['applicable', 'motor']), list(['restaurant', 'colander'])],\n",
       "      dtype=object)"
      ]
     },
     "execution_count": 69,
     "metadata": {},
     "output_type": "execute_result"
    }
   ],
   "source": [
    "query"
   ]
  },
  {
   "cell_type": "code",
   "execution_count": 82,
   "metadata": {},
   "outputs": [
    {
     "name": "stdout",
     "output_type": "stream",
     "text": [
      "unsee: 4737\n"
     ]
    }
   ],
   "source": [
    "# 获取句子长度列表\n",
    "len_list = []\n",
    "for i in range(len(query)):\n",
    "    len_list.append(len(query[i]))\n",
    "len_list = np.array(len_list)\n",
    "# 最长句子\n",
    "max_len = max(len_list)\n",
    "# 将每个句子中的单词变成索引值，并补齐长度\n",
    "query_index = []\n",
    "unsee = 0\n",
    "for i in range(len(query)):\n",
    "    tem = query[i]\n",
    "    tem_ = []\n",
    "    for j in range(len(tem)):\n",
    "        if tem[j] not in word_index:\n",
    "            tem_.append(0)\n",
    "            unsee += 1\n",
    "        else:\n",
    "            tem_.append(word_index[tem[j]])\n",
    "    # 补0\n",
    "    if len_list[i] < max_len:\n",
    "        for k in range(max_len-len_list[i]):\n",
    "            tem_.append(0)\n",
    "    tem_ = np.array(tem_).reshape(1, max_len)\n",
    "    query_index.append(tem_)\n",
    "query_index = np.array(query_index).reshape(-1, max_len)\n",
    "print('unsee:', unsee)"
   ]
  },
  {
   "cell_type": "code",
   "execution_count": 278,
   "metadata": {},
   "outputs": [
    {
     "data": {
      "text/plain": [
       "10"
      ]
     },
     "execution_count": 278,
     "metadata": {},
     "output_type": "execute_result"
    }
   ],
   "source": [
    "query_index.shape"
   ]
  },
  {
   "cell_type": "code",
   "execution_count": 87,
   "metadata": {},
   "outputs": [],
   "source": [
    "embedding = torch.nn.Embedding(len(word_index), 100, padding_idx=0)"
   ]
  },
  {
   "cell_type": "code",
   "execution_count": 89,
   "metadata": {},
   "outputs": [],
   "source": [
    "query_index = Variable(torch.LongTensor(query_index))\n",
    "query_emb = embedding(query_index)"
   ]
  },
  {
   "cell_type": "code",
   "execution_count": 92,
   "metadata": {},
   "outputs": [
    {
     "data": {
      "text/plain": [
       "tensor([0., 0., 0., 0., 0., 0., 0., 0., 0., 0., 0., 0., 0., 0., 0., 0., 0., 0.,\n",
       "        0., 0., 0., 0., 0., 0., 0., 0., 0., 0., 0., 0., 0., 0., 0., 0., 0., 0.,\n",
       "        0., 0., 0., 0., 0., 0., 0., 0., 0., 0., 0., 0., 0., 0., 0., 0., 0., 0.,\n",
       "        0., 0., 0., 0., 0., 0., 0., 0., 0., 0., 0., 0., 0., 0., 0., 0., 0., 0.,\n",
       "        0., 0., 0., 0., 0., 0., 0., 0., 0., 0., 0., 0., 0., 0., 0., 0., 0., 0.,\n",
       "        0., 0., 0., 0., 0., 0., 0., 0., 0., 0.], grad_fn=<SelectBackward>)"
      ]
     },
     "execution_count": 92,
     "metadata": {},
     "output_type": "execute_result"
    }
   ],
   "source": [
    "query_emb[0, 0, :]"
   ]
  },
  {
   "cell_type": "code",
   "execution_count": 228,
   "metadata": {},
   "outputs": [],
   "source": [
    "label = data['class_labels']"
   ]
  },
  {
   "cell_type": "code",
   "execution_count": 229,
   "metadata": {},
   "outputs": [],
   "source": [
    "def get_label(path):\n",
    "    with open(path) as f:\n",
    "        lines = f.readlines()\n",
    "        label2id = {l.split('\\n')[0].split('\\t')[1]:int(l.split('\\n')[0].split('\\t')[0]) for l in lines[1:]}\n",
    "        id2label = {int(l.split('\\n')[0].split('\\t')[0]):l.split('\\n')[0].split('\\t')[1] for l in lines[1:]}\n",
    "    return label2id, id2label"
   ]
  },
  {
   "cell_type": "code",
   "execution_count": 230,
   "metadata": {},
   "outputs": [],
   "source": [
    "label2id, id2label = get_label(path='/home/poac/AnomalyDetectionDataset/kdd_cup_2020/multimodal_labels.txt')"
   ]
  },
  {
   "cell_type": "code",
   "execution_count": 231,
   "metadata": {},
   "outputs": [
    {
     "data": {
      "text/plain": [
       "{0: 'top clothes (coat, jacket, shirt, etc.)',\n",
       " 1: 'skirt & dress',\n",
       " 2: 'bottom clothes (trousers, pants, etc.)',\n",
       " 3: 'luggage, leather goods',\n",
       " 4: 'shoes',\n",
       " 5: 'accessories (jewelry, clothing accessories, belts, hats, scarves, etc.)',\n",
       " 6: 'snacks, nuts, liquor and tea',\n",
       " 7: 'makeup, perfume, beauty tools and essential oils',\n",
       " 8: 'bottle drink',\n",
       " 9: 'furniture',\n",
       " 10: 'stationery',\n",
       " 11: 'household electrical appliances',\n",
       " 12: 'home decoration',\n",
       " 13: 'household fabric',\n",
       " 14: 'kitchenware',\n",
       " 15: 'home / personal cleaning tools',\n",
       " 16: 'storage supplies',\n",
       " 17: 'motorcycle, motorcycle accessories, vehicles, bicycle and riding equipment',\n",
       " 18: 'outdoor product',\n",
       " 19: 'lighting',\n",
       " 20: 'toys',\n",
       " 21: 'underwear',\n",
       " 22: 'digital supplies',\n",
       " 23: 'bed linens',\n",
       " 24: 'baby products',\n",
       " 25: 'personal care',\n",
       " 26: 'sporting goods',\n",
       " 27: 'clothes (accessories, baby clothing, etc.)',\n",
       " 28: 'others',\n",
       " 29: 'human face',\n",
       " 30: 'arm',\n",
       " 31: 'hair',\n",
       " 32: 'hand'}"
      ]
     },
     "execution_count": 231,
     "metadata": {},
     "output_type": "execute_result"
    }
   ],
   "source": [
    "id2label"
   ]
  },
  {
   "cell_type": "code",
   "execution_count": 232,
   "metadata": {},
   "outputs": [
    {
     "data": {
      "text/plain": [
       "28"
      ]
     },
     "execution_count": 232,
     "metadata": {},
     "output_type": "execute_result"
    }
   ],
   "source": [
    "label[0][0]"
   ]
  },
  {
   "cell_type": "code",
   "execution_count": 233,
   "metadata": {},
   "outputs": [],
   "source": [
    "label_word = []\n",
    "for i in range(len(label)):\n",
    "    tem = ''\n",
    "    for j in range(len(label[i])):\n",
    "        # 将其他符号替换为逗号\n",
    "        tem = tem + ',' + id2label[label[i][j]]\n",
    "        tem = re.sub(\" \",\",\",tem)\n",
    "        tem = re.sub('\\(', \",\", tem)\n",
    "        tem = re.sub('\\)', \",\", tem)\n",
    "        tem = re.sub('\\.', ',', tem)\n",
    "        tem = re.sub('&', ',', tem)\n",
    "    # 按逗号分隔\n",
    "    tem = tem.split(\",\")\n",
    "    # 过滤空字符串\n",
    "    tem = [x for x in tem if x != '']\n",
    "\n",
    "    tem = list(tem)\n",
    "    label_word.append(tem)"
   ]
  },
  {
   "cell_type": "code",
   "execution_count": 234,
   "metadata": {},
   "outputs": [],
   "source": [
    "def process_query(query, is_split=True):\n",
    "    \"\"\"\n",
    "    query --> query index\n",
    "    :param query:\n",
    "    :return: longtensor\n",
    "    \"\"\"\n",
    "    # split\n",
    "    if is_split:\n",
    "        query, max_len = split_query(query=query)\n",
    "    print('max len:', max_len)\n",
    "    # word --> index\n",
    "    with open('/home/poac/code/Multi_modal_Retrieval/experiments/pretrained_models/bert-base-uncased-vocab.txt',\n",
    "              mode=\"r\", encoding=\"utf8\") as f:\n",
    "        lines = f.readlines()\n",
    "        lines = [l.strip() for l in lines]\n",
    "    word_index = {v: k for k, v in enumerate(lines)}\n",
    "    # get len list\n",
    "    len_list = []\n",
    "    for i in range(len(query)):\n",
    "        len_list.append(len(query[i]))\n",
    "    len_list = np.array(len_list)\n",
    "    # word --> index,  and padding\n",
    "    query_index = []\n",
    "    unsee = 0\n",
    "    for i in range(len(query)):\n",
    "        tem = query[i]\n",
    "        tem_ = []\n",
    "        for j in range(len(tem)):\n",
    "            if tem[j] not in word_index:\n",
    "                tem_.append(0)\n",
    "                unsee += 1\n",
    "            else:\n",
    "                tem_.append(word_index[tem[j]])\n",
    "        # padding 0\n",
    "        if len_list[i] < max_len:\n",
    "            for k in range(max_len - len_list[i]):\n",
    "                tem_.append(0)\n",
    "        tem_ = np.array(tem_).reshape(1, max_len)\n",
    "        query_index.append(tem_)\n",
    "    query_index = np.array(query_index).reshape(-1, max_len)\n",
    "    print('unsee:', unsee)\n",
    "    return Variable(torch.LongTensor(query_index))"
   ]
  },
  {
   "cell_type": "code",
   "execution_count": 235,
   "metadata": {},
   "outputs": [],
   "source": [
    "def process_label(query):\n",
    "    \"\"\"\n",
    "    label --> label index\n",
    "    :param query:\n",
    "    :return: longtensor\n",
    "    \"\"\"\n",
    "    # word --> index\n",
    "    with open('/home/poac/code/Multi_modal_Retrieval/experiments/pretrained_models/bert-base-uncased-vocab.txt',\n",
    "              mode=\"r\", encoding=\"utf8\") as f:\n",
    "        lines = f.readlines()\n",
    "        lines = [l.strip() for l in lines]\n",
    "    word_index = {v: k for k, v in enumerate(lines)}\n",
    "    # get len list\n",
    "    len_list = []\n",
    "    for i in range(len(query)):\n",
    "        len_list.append(len(query[i]))\n",
    "    len_list = np.array(len_list)\n",
    "    max_len = max(len_list)\n",
    "    print('max len:', max_len)\n",
    "    # word --> index,  and padding\n",
    "    query_index = []\n",
    "    unsee = 0\n",
    "    for i in range(len(query)):\n",
    "        tem = query[i]\n",
    "        tem_ = []\n",
    "        for j in range(len(tem)):\n",
    "            if tem[j] not in word_index:\n",
    "                tem_.append(0)\n",
    "                unsee += 1\n",
    "            else:\n",
    "                tem_.append(word_index[tem[j]])\n",
    "        # padding 0\n",
    "        if len_list[i] < max_len:\n",
    "            for k in range(max_len - len_list[i]):\n",
    "                tem_.append(0)\n",
    "        tem_ = np.array(tem_).reshape(1, max_len)\n",
    "        query_index.append(tem_)\n",
    "    query_index = np.array(query_index).reshape(-1, max_len)\n",
    "    print('unsee:', unsee)\n",
    "    return Variable(torch.LongTensor(query_index))"
   ]
  },
  {
   "cell_type": "code",
   "execution_count": 236,
   "metadata": {},
   "outputs": [
    {
     "name": "stdout",
     "output_type": "stream",
     "text": [
      "max len: 146\n",
      "unsee: 1817\n"
     ]
    }
   ],
   "source": [
    "label_index = process_label(query=label_word)"
   ]
  },
  {
   "cell_type": "code",
   "execution_count": 239,
   "metadata": {},
   "outputs": [
    {
     "data": {
      "text/plain": [
       "torch.Size([10000, 146])"
      ]
     },
     "execution_count": 239,
     "metadata": {},
     "output_type": "execute_result"
    }
   ],
   "source": [
    "label_index.shape"
   ]
  },
  {
   "cell_type": "code",
   "execution_count": 238,
   "metadata": {},
   "outputs": [
    {
     "data": {
      "text/plain": [
       "['others', 'others']"
      ]
     },
     "execution_count": 238,
     "metadata": {},
     "output_type": "execute_result"
    }
   ],
   "source": [
    "label_word[0]"
   ]
  },
  {
   "cell_type": "code",
   "execution_count": 279,
   "metadata": {},
   "outputs": [
    {
     "data": {
      "text/plain": [
       "torch.Size([10000, 146])"
      ]
     },
     "execution_count": 279,
     "metadata": {},
     "output_type": "execute_result"
    }
   ],
   "source": [
    "label_index.shape"
   ]
  },
  {
   "cell_type": "code",
   "execution_count": 204,
   "metadata": {},
   "outputs": [
    {
     "data": {
      "text/plain": [
       "2500"
      ]
     },
     "execution_count": 204,
     "metadata": {},
     "output_type": "execute_result"
    }
   ],
   "source": [
    "word_index['others']"
   ]
  },
  {
   "cell_type": "code",
   "execution_count": 240,
   "metadata": {},
   "outputs": [],
   "source": [
    "features = data['features']\n",
    "boxes = data['boxes']"
   ]
  },
  {
   "cell_type": "code",
   "execution_count": 247,
   "metadata": {},
   "outputs": [
    {
     "data": {
      "text/plain": [
       "(2, 2048)"
      ]
     },
     "execution_count": 247,
     "metadata": {},
     "output_type": "execute_result"
    }
   ],
   "source": [
    "features[0].shape"
   ]
  },
  {
   "cell_type": "code",
   "execution_count": 248,
   "metadata": {},
   "outputs": [
    {
     "data": {
      "text/plain": [
       "(2, 4)"
      ]
     },
     "execution_count": 248,
     "metadata": {},
     "output_type": "execute_result"
    }
   ],
   "source": [
    "boxes[0].shape"
   ]
  },
  {
   "cell_type": "code",
   "execution_count": 252,
   "metadata": {},
   "outputs": [
    {
     "name": "stdout",
     "output_type": "stream",
     "text": [
      "max box: 51\n"
     ]
    }
   ],
   "source": [
    "# get max box\n",
    "max_box = max(data['num_boxes'])\n",
    "print('max box:', max_box)\n",
    "features = np.array(features)\n",
    "boxes = np.array(boxes)\n",
    "image_seq = []\n",
    "for i in range(features.shape[0]):\n",
    "    f_tem = features[i]\n",
    "    b_tem = boxes[i]\n",
    "    cat = np.concatenate([f_tem, b_tem], axis=1)\n",
    "    # 补齐\n",
    "    if data['num_boxes'][i] < max_box:\n",
    "        zeros = np.zeros((max_box-data['num_boxes'][i], cat.shape[1]))\n",
    "        cat = np.concatenate([cat, zeros], axis=0)\n",
    "    image_seq.append(cat)\n",
    "image_seq = np.array(image_seq)"
   ]
  },
  {
   "cell_type": "code",
   "execution_count": 254,
   "metadata": {},
   "outputs": [
    {
     "data": {
      "text/plain": [
       "array([[  0.        ,   0.        ,   6.03786039, ...,   3.        ,\n",
       "        338.        , 207.        ],\n",
       "       [  0.        ,   0.        ,   3.45090771, ...,  22.        ,\n",
       "        333.        , 204.        ],\n",
       "       [  0.        ,   0.        ,   0.        , ...,   0.        ,\n",
       "          0.        ,   0.        ],\n",
       "       ...,\n",
       "       [  0.        ,   0.        ,   0.        , ...,   0.        ,\n",
       "          0.        ,   0.        ],\n",
       "       [  0.        ,   0.        ,   0.        , ...,   0.        ,\n",
       "          0.        ,   0.        ],\n",
       "       [  0.        ,   0.        ,   0.        , ...,   0.        ,\n",
       "          0.        ,   0.        ]])"
      ]
     },
     "execution_count": 254,
     "metadata": {},
     "output_type": "execute_result"
    }
   ],
   "source": [
    "image_seq[0, :, :]"
   ]
  },
  {
   "cell_type": "code",
   "execution_count": 276,
   "metadata": {},
   "outputs": [],
   "source": [
    "def convert_pos(num_boxes, boxes, H, W):\n",
    "    \"\"\"\n",
    "    convert box position to 5-dim feature\n",
    "    :param num_boxes:\n",
    "    :param boxes:\n",
    "    :param H:\n",
    "    :param W:\n",
    "    :return:\n",
    "    \"\"\"\n",
    "    out = []\n",
    "    for i in range(num_boxes.shape[0]):\n",
    "        pos_list = []\n",
    "        for j in range(num_boxes[i]):\n",
    "            temp = boxes[i][j, :]\n",
    "            pos_list.append([temp[0]/W[i], temp[2]/W[i], temp[1]/H[i], temp[3]/H[i], \n",
    "                             ((temp[2] - temp[0]) * (temp[3] - temp[1]))/(W[i]*H[i]), ])\n",
    "            \n",
    "        pos_list = np.array(pos_list)\n",
    "        out.append(pos_list)\n",
    "    return np.array(out)"
   ]
  },
  {
   "cell_type": "code",
   "execution_count": 273,
   "metadata": {},
   "outputs": [],
   "source": [
    "a = convert_pos(num_boxes=data['num_boxes'], boxes=data['boxes'], H=data['image_h'], W=data['image_w'])"
   ]
  },
  {
   "cell_type": "code",
   "execution_count": 275,
   "metadata": {},
   "outputs": [
    {
     "data": {
      "text/plain": [
       "array([[0.        , 1.61722488, 0.00887574, 0.61242604, 0.97607656],\n",
       "       [1.14354067, 1.59330144, 0.06508876, 0.6035503 , 0.24217887]])"
      ]
     },
     "execution_count": 275,
     "metadata": {},
     "output_type": "execute_result"
    }
   ],
   "source": [
    "a[0]"
   ]
  },
  {
   "cell_type": "code",
   "execution_count": 288,
   "metadata": {},
   "outputs": [
    {
     "data": {
      "text/plain": [
       "30522"
      ]
     },
     "execution_count": 288,
     "metadata": {},
     "output_type": "execute_result"
    }
   ],
   "source": [
    "n = 0\n",
    "with open('/home/poac/code/Multi_modal_Retrieval/experiments/pretrained_models/bert-base-uncased-vocab.txt', mode=\"r\", encoding=\"utf8\") as f:\n",
    "    lines = f.readlines()\n",
    "len(lines)"
   ]
  },
  {
   "cell_type": "code",
   "execution_count": 285,
   "metadata": {},
   "outputs": [
    {
     "data": {
      "text/plain": [
       "1"
      ]
     },
     "execution_count": 285,
     "metadata": {},
     "output_type": "execute_result"
    }
   ],
   "source": [
    "n"
   ]
  },
  {
   "cell_type": "code",
   "execution_count": null,
   "metadata": {},
   "outputs": [],
   "source": []
  }
 ],
 "metadata": {
  "kernelspec": {
   "display_name": "Python 3",
   "language": "python",
   "name": "python3"
  },
  "language_info": {
   "codemirror_mode": {
    "name": "ipython",
    "version": 3
   },
   "file_extension": ".py",
   "mimetype": "text/x-python",
   "name": "python",
   "nbconvert_exporter": "python",
   "pygments_lexer": "ipython3",
   "version": "3.6.9"
  }
 },
 "nbformat": 4,
 "nbformat_minor": 2
}
